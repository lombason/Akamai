{
 "cells": [
  {
   "cell_type": "markdown",
   "metadata": {},
   "source": [
    "### Notes from Kyle\n",
    "\n",
    "-   ticket count by queue\n",
    "    ``` \n",
    "    agg mega 'select del_owner_group_name, del_owner, count(ticket) from MCM_SiebelIssuesOpen_v2 where del_owner like \"csd_%\" group by 1, 2 order by 3 desc'\n",
    "    ```\n",
    "\n",
    "-   columns/desc\n",
    "    ```\n",
    "    agg mega \"desc MCM_SiebelIssuesOpen_v2\"\n",
    "\n",
    "    ```\n",
    "\n",
    "\n",
    "    ticket count by last touch \n",
    "    agg mega 'select last_updated_by,  del_owner, count(ticket) from MCM_SiebelIssuesOpen_v2 where del_owner like \"csd_%\" group by 1  order by 3'\n",
    "\n",
    "    ##scoring\n",
    "\n",
    "    ```\n",
    "    sql2 -q volta.multi.lighthouse.query.akadns.net 'select count(issue_id) from appbatt_app_tisco_tickets where issue_id in (select ticket from MCM_SiebelIssuesOpen_v2 where del_owner_group_name=\"Platform Operations\" and del_owner like \"%csd%\") AND score > 99'\n",
    "    ``"
   ]
  },
  {
   "cell_type": "code",
   "execution_count": 8,
   "metadata": {},
   "outputs": [
    {
     "data": {
      "text/plain": [
       "str"
      ]
     },
     "execution_count": 8,
     "metadata": {},
     "output_type": "execute_result"
    }
   ],
   "source": [
    "message=\"Deconstruction of $TICKET\"\n",
    "type(message)"
   ]
  }
 ],
 "metadata": {
  "kernelspec": {
   "display_name": "Python 3",
   "language": "python",
   "name": "python3"
  },
  "language_info": {
   "codemirror_mode": {
    "name": "ipython",
    "version": 3
   },
   "file_extension": ".py",
   "mimetype": "text/x-python",
   "name": "python",
   "nbconvert_exporter": "python",
   "pygments_lexer": "ipython3",
   "version": "3.11.6"
  }
 },
 "nbformat": 4,
 "nbformat_minor": 2
}
